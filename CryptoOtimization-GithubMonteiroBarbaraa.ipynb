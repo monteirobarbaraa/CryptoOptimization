{
 "cells": [
  {
   "cell_type": "code",
   "execution_count": null,
   "metadata": {},
   "outputs": [],
   "source": [
    "# The focus of this project is otimize crypto portfolios\n",
    "# the result will be a table "
   ]
  },
  {
   "cell_type": "code",
   "execution_count": null,
   "metadata": {},
   "outputs": [],
   "source": [
    "# Imports\n",
    "import warnings\n",
    "warnings.simplefilter(action='ignore', category=FutureWarning)\n",
    "warnings.filterwarnings(\"ignore\", category=FutureWarning)\n",
    "\n",
    "# to manage the data from the api\n",
    "import json \n",
    "\n",
    "# To get the data from the api\n",
    "import requests\n",
    "\n",
    "# to dataframes the math operations\n",
    "import pandas as pd\n",
    "import numpy as np\n",
    "\n",
    "# to create the model\n",
    "import tensorflow as tf\n",
    "\n",
    "# to create graphs\n",
    "import matplotlib.pyplot as plt"
   ]
  },
  {
   "cell_type": "code",
   "execution_count": null,
   "metadata": {},
   "outputs": [],
   "source": [
    "import tensorflow.python.util.deprecation as deprecation\n",
    "deprecation._PRINT_DEPRECATION_WARNINGS = False\n",
    "tf.compat.v1.disable_eager_execution()"
   ]
  },
  {
   "cell_type": "code",
   "execution_count": null,
   "metadata": {},
   "outputs": [],
   "source": [
    "# Use:\n",
    "# pip install (name of the library)\n",
    "# in case of trouble with the previous lines "
   ]
  },
  {
   "cell_type": "code",
   "execution_count": null,
   "metadata": {},
   "outputs": [],
   "source": [
    "# NumPy\n",
    "np.__version__"
   ]
  },
  {
   "cell_type": "code",
   "execution_count": null,
   "metadata": {},
   "outputs": [],
   "source": [
    "# Pandas\n",
    "pd.__version__"
   ]
  },
  {
   "cell_type": "code",
   "execution_count": null,
   "metadata": {},
   "outputs": [],
   "source": [
    "# TensorFlow\n",
    "tf.__version__"
   ]
  },
  {
   "cell_type": "code",
   "execution_count": null,
   "metadata": {},
   "outputs": [],
   "source": [
    "import matplotlib as m\n",
    "m.__version__"
   ]
  },
  {
   "cell_type": "code",
   "execution_count": null,
   "metadata": {},
   "outputs": [],
   "source": [
    "# Variables"
   ]
  },
  {
   "cell_type": "code",
   "execution_count": null,
   "metadata": {},
   "outputs": [],
   "source": [
    "# List of cryptocurrencies that will compound my portfolio\n",
    "cryptocurrencies = [\"BTC\", \"ETH\"]"
   ]
  },
  {
   "cell_type": "code",
   "execution_count": null,
   "metadata": {},
   "outputs": [],
   "source": [
    "# Number of past days used to get data from the API\n",
    "days_hist = 300"
   ]
  },
  {
   "cell_type": "code",
   "execution_count": null,
   "metadata": {},
   "outputs": [],
   "source": [
    "# Dictionary to save the data collect from the API\n",
    "crypto_hist = {}"
   ]
  },
  {
   "cell_type": "code",
   "execution_count": null,
   "metadata": {},
   "outputs": [],
   "source": [
    "# Start the variable days_hist\n",
    "hist_length = 0"
   ]
  },
  {
   "cell_type": "code",
   "execution_count": null,
   "metadata": {},
   "outputs": [],
   "source": [
    "# medium return\n",
    "return_m = {}"
   ]
  },
  {
   "cell_type": "code",
   "execution_count": null,
   "metadata": {},
   "outputs": [],
   "source": [
    "# Dictionary to return the accumulated return\n",
    "return_ac = {}"
   ]
  },
  {
   "cell_type": "code",
   "execution_count": null,
   "metadata": {},
   "outputs": [],
   "source": [
    "# Function to collect data from the API"
   ]
  },
  {
   "cell_type": "code",
   "execution_count": null,
   "metadata": {},
   "outputs": [],
   "source": [
    "# Function to generate index(column time) for the history transactions\n",
    "def index_hist(hist):\n",
    "    hist = hist.set_index('time')\n",
    "    hist.index = pd.to_datetime(hist.index, unit = 's')\n",
    "    return hist"
   ]
  },
  {
   "cell_type": "code",
   "execution_count": null,
   "metadata": {},
   "outputs": [],
   "source": [
    "def get_hist(coin):\n",
    "    endpoint_url = \"https://min-api.cryptocompare.com/data/v2/histoday?fsym={}&tsym=USD&limit={:d}&extraParams=XXX\".format(coin, days_hist)\n",
    "    print(endpoint_url)\n",
    "    res = requests.get(endpoint_url)\n",
    "    hist = pd.DataFrame(json.loads(res.content)['Data']['Data']) # conversion to dataframe\n",
    "    hist = index_hist(hist)\n",
    "    return hist"
   ]
  },
  {
   "cell_type": "code",
   "execution_count": null,
   "metadata": {},
   "outputs": [],
   "source": [
    "# Loop\n",
    "def get_all():\n",
    "    for cryptocoin in cryptocurrencies:\n",
    "        crypto_hist[cryptocoin] = get_hist(cryptocoin)"
   ]
  },
  {
   "cell_type": "code",
   "execution_count": null,
   "metadata": {},
   "outputs": [],
   "source": [
    "# Call the function get_all\n",
    "get_all()"
   ]
  },
  {
   "cell_type": "code",
   "execution_count": null,
   "metadata": {},
   "outputs": [],
   "source": [
    "# Define the length \n",
    "hist_length = len(crypto_hist[cryptocurrencies[0]])"
   ]
  },
  {
   "cell_type": "code",
   "execution_count": null,
   "metadata": {},
   "outputs": [],
   "source": [
    "# Print the data\n",
    "crypto_hist"
   ]
  },
  {
   "cell_type": "code",
   "execution_count": null,
   "metadata": {},
   "outputs": [],
   "source": [
    "# Bitcoin head(5 first lines) history of the past 300 days\n",
    "crypto_hist['BTC'].head()"
   ]
  },
  {
   "cell_type": "markdown",
   "metadata": {},
   "source": [
    "### Return "
   ]
  },
  {
   "cell_type": "code",
   "execution_count": null,
   "metadata": {},
   "outputs": [],
   "source": [
    "# Function to calculate the return\n",
    "def calc_return():\n",
    "    for cryptocoin in cryptocurrencies:\n",
    "\n",
    "        # Collect data\n",
    "        hist = crypto_hist[cryptocoin]\n",
    "\n",
    "        # Calculate the return\n",
    "        hist['return'] = (hist['close'] - hist['open']) / hist['open']\n",
    "\n",
    "        # Mean return\n",
    "        media = hist[\"return\"].mean()\n",
    "        \n",
    "        #return_medio[cryptocoin] = media\n",
    "\n",
    "        # Accumulated return\n",
    "        return_accumulated[cryptocoin] = (hist['return'] + 1).prod() - 1\n",
    "\n",
    "        # Extra return \n",
    "        hist['return_extra'] = hist['return'] - media\n",
    "\n",
    "        # Dataframe\n",
    "        crypto_hist[cryptocoin] = hist"
   ]
  },
  {
   "cell_type": "code",
   "execution_count": null,
   "metadata": {},
   "outputs": [],
   "source": [
    "calc_return()"
   ]
  },
  {
   "cell_type": "code",
   "execution_count": null,
   "metadata": {},
   "outputs": [],
   "source": [
    "print(return_accumulated)"
   ]
  },
  {
   "cell_type": "code",
   "execution_count": null,
   "metadata": {},
   "outputs": [],
   "source": [
    "# Dataset with the return columns\n",
    "crypto_hist['BTC'].head()"
   ]
  },
  {
   "cell_type": "code",
   "execution_count": null,
   "metadata": {},
   "outputs": [],
   "source": [
    "return_extra_matrix = np.zeros((hist_length, len(cryptocoins)))"
   ]
  },
  {
   "cell_type": "code",
   "execution_count": null,
   "metadata": {},
   "outputs": [],
   "source": [
    "return_extra_matrix"
   ]
  },
  {
   "cell_type": "code",
   "execution_count": null,
   "metadata": {},
   "outputs": [],
   "source": [
    "# Fullfilling the matrix above with the extra return \n",
    "for i in range(0, hist_length):\n",
    "    for idx, cryptocoin in enumerate(cryptocoins):\n",
    "        return_extra_matrix[i][idx] = crypto_hist[cryptocoin].iloc[i]['return_extra']"
   ]
  },
  {
   "cell_type": "code",
   "execution_count": null,
   "metadata": {},
   "outputs": [],
   "source": [
    "# Visualize the matrix\n",
    "return_extra_matrix_form = pd.DataFrame(return_extra_matrix, columns = cryptocoins)\n",
    "return_extra_matrix_form.index = crypto_hist[cryptocoins[0]].index\n",
    "\n",
    "return_extra_matrix_form"
   ]
  },
  {
   "cell_type": "code",
   "execution_count": null,
   "metadata": {},
   "outputs": [],
   "source": [
    "prod_matrix = np.matmul(return_extra_matrix.transpose(), return_extra_matrix)\n",
    "var_covar_matrix = prod_matrix / hist_length"
   ]
  },
  {
   "cell_type": "code",
   "execution_count": null,
   "metadata": {},
   "outputs": [],
   "source": [
    "var_covar_matrix_form= pd.DataFrame(var_covar_matrix, columns = cryptocoins, index = cryptocoins)\n",
    "var_covar_matrix_form"
   ]
  },
  {
   "cell_type": "code",
   "execution_count": null,
   "metadata": {},
   "outputs": [],
   "source": [
    "# standard deviation\n",
    "deviation_s = np.zeros((len(cryptocoins), 1))\n",
    "\n",
    "for idx, cryptocoin in enumerate(cryptocoins):\n",
    "    deviation_s[idx][0] = np.std(crypto_hist[cryptocoin]['return'])"
   ]
  },
  {
   "cell_type": "code",
   "execution_count": null,
   "metadata": {},
   "outputs": [],
   "source": [
    "deviation_s_form = pd.DataFrame(deviation_s, columns = ['deviation_s'], index = cryptocoins)\n",
    "deviation_s_form"
   ]
  },
  {
   "cell_type": "code",
   "execution_count": null,
   "metadata": {},
   "outputs": [],
   "source": [
    "# deviation_s matrix\n",
    "deviation_s_prod_matrix = np.matmul(deviation_s, deviation_s.transpose())"
   ]
  },
  {
   "cell_type": "code",
   "execution_count": null,
   "metadata": {},
   "outputs": [],
   "source": [
    "deviation_s_prod_matrix_form = pd.DataFrame(deviation_s_prod_matrix, columns = cryptocoins, index = cryptocoins)\n",
    "deviation_s_prod_matrix_form"
   ]
  },
  {
   "cell_type": "code",
   "execution_count": null,
   "metadata": {},
   "outputs": [],
   "source": [
    "# Correlation matrix\n",
    "matrix_cor = var_covar_matrix / deviation_s_prod_matrix"
   ]
  },
  {
   "cell_type": "code",
   "execution_count": null,
   "metadata": {},
   "outputs": [],
   "source": [
    "matrix_cor_form = pd.DataFrame(matrix_cor, columns = cryptocoins, index = cryptocoins)\n",
    "matrix_cor_form"
   ]
  },
  {
   "cell_type": "markdown",
   "metadata": {},
   "source": [
    "### Model"
   ]
  },
  {
   "cell_type": "markdown",
   "metadata": {},
   "source": [
    "Model:\n",
    "\n",
    "Sqrt(Transpose (Wt.SD) * Correlation Matrix * Wt.SD)"
   ]
  },
  {
   "cell_type": "code",
   "execution_count": null,
   "metadata": {},
   "outputs": [],
   "source": [
    "def minimize_volatility():\n",
    "\n",
    "    # Start variables with TensorFlow\n",
    "    coin_weights = tf.Variable(np.full((len(cryptocoins), 1), 1.0 / len(cryptocoins)))\n",
    "\n",
    "    weighted_std_devs = tf.multiply(coin_weights, desvio_padrao)\n",
    "\n",
    "    product_1 = tf.transpose(a=weighted_std_devs)\n",
    "\n",
    "    product_2 = tf.matmul(product_1, matriz_cor)\n",
    "\n",
    "    portfolio_variance = tf.matmul(product_2, weighted_std_devs)\n",
    "\n",
    "    portfolio_volatility = tf.sqrt(tf.reduce_sum(input_tensor=portfolio_variance))\n",
    "\n",
    "    # Model: Portfolio Volatility = Sqrt(Transpose (Wt.SD) * Correlation Matrix * Wt.SD)\n",
    "\n",
    "    # Model hiperparametres\n",
    "    learn_rate = 0.01\n",
    "    steps = 10000\n",
    "\n",
    "    # Iniciate the variables\n",
    "    init = tf.compat.v1.global_variables_initializer()\n",
    "\n",
    "    # Training using Gradient Descent to minimize the variance (volatility)\n",
    "    train_step = tf.compat.v1.train.GradientDescentOptimizer(learn_rate).minimize(portfolio_volatility)\n",
    "\n",
    "    # Session TF\n",
    "    with tf.compat.v1.Session() as sess:\n",
    "        sess.run(init)\n",
    "        for i in range(steps):\n",
    "            sess.run(train_step)\n",
    "            if i % 1000 == 0 :\n",
    "                print(\"[Iteration {:d}]\".format(i))\n",
    "                print(\"Weights\", coin_weights.eval())\n",
    "                print(\"Volatility: {:.2f}%\".format(portfolio_volatility.eval() * 100))\n",
    "                print(\"\")\n",
    "\n",
    "        return coin_weights.eval()"
   ]
  },
  {
   "cell_type": "code",
   "execution_count": null,
   "metadata": {},
   "outputs": [],
   "source": [
    "result = minimize_volatility()"
   ]
  },
  {
   "cell_type": "code",
   "execution_count": null,
   "metadata": {},
   "outputs": [],
   "source": [
    "print(result)"
   ]
  },
  {
   "cell_type": "code",
   "execution_count": null,
   "metadata": {},
   "outputs": [],
   "source": [
    "# Print the result\n",
    "result_form = pd.DataFrame(result * 100, index = cryptocoins, columns = [\"% Volatility for the portfolio\"])\n",
    "result_form"
   ]
  },
  {
   "cell_type": "markdown",
   "metadata": {},
   "source": [
    "### Models Constraints"
   ]
  },
  {
   "cell_type": "code",
   "execution_count": null,
   "metadata": {},
   "outputs": [],
   "source": [
    "# Add limits\n",
    "# Goal: minimize the variance\n",
    "# Add constraints\n",
    "\n",
    "def minimize_volatility_v2():\n",
    "\n",
    "    coin_weights = tf.Variable(np.full((len(criptomoedas), 1), 1.0 / len(criptomoedas)))\n",
    "    weighted_std_devs = tf.multiply(coin_weights, desvio_padrao)\n",
    "\n",
    "    product_1 = tf.transpose(a=weighted_std_devs)\n",
    "    product_2 = tf.matmul(product_1, matriz_cor)\n",
    "\n",
    "    portfolio_variance = tf.matmul(product_2, weighted_std_devs)\n",
    "    portfolio_volatility = tf.sqrt(tf.reduce_sum(input_tensor=portfolio_variance))\n",
    "\n",
    "    # Constraints: sum([0..1, 0..1, ...]) = 1\n",
    "\n",
    "    lower_than_zero = tf.greater( np.float64(0), coin_weights )\n",
    "    zero_minimum_op = coin_weights.assign( tf.compat.v1.where (lower_than_zero, tf.zeros_like(coin_weights), coin_weights) )\n",
    "\n",
    "    greater_than_one = tf.greater( coin_weights, np.float64(1) )\n",
    "    unity_max_op = coin_weights.assign( tf.compat.v1.where (greater_than_one, tf.ones_like(coin_weights), coin_weights) )\n",
    "\n",
    "    result_sum = tf.reduce_sum(input_tensor=coin_weights)\n",
    "    unity_sum_op = coin_weights.assign(tf.divide(coin_weights, result_sum))\n",
    "\n",
    "    constraints_op = tf.group(zero_minimum_op, unity_max_op, unity_sum_op)\n",
    "\n",
    "    # Hiperparametres\n",
    "    learning_rate = 0.01\n",
    "    steps = 10000\n",
    "\n",
    "    init = tf.compat.v1.global_variables_initializer()\n",
    "\n",
    "    # Training the model using Gradient Descent to minimize the variance(volatility)\n",
    "    optimize_op = tf.compat.v1.train.GradientDescentOptimizer(learning_rate).minimize(portfolio_volatility)\n",
    "\n",
    "    with tf.compat.v1.Session() as sess:\n",
    "        sess.run(init)\n",
    "        for i in range(steps):\n",
    "            sess.run(optimize_op)\n",
    "            sess.run(constraints_op)\n",
    "            if i % 2500 == 0 :\n",
    "                print(\"[Iteration {:d}]\".format(i))\n",
    "                print(\"Weights\", coin_weights.eval())\n",
    "                print(\"Volatility: {:.2f}%\".format(portfolio_volatility.eval() * 100))\n",
    "                print(\"\")\n",
    "\n",
    "        sess.run(constraints_op)\n",
    "        return coin_weights.eval()"
   ]
  },
  {
   "cell_type": "code",
   "execution_count": null,
   "metadata": {},
   "outputs": [],
   "source": [
    "# Training the model\n",
    "result = minimize_volatility_v2()"
   ]
  },
  {
   "cell_type": "code",
   "execution_count": null,
   "metadata": {},
   "outputs": [],
   "source": [
    "# Result\n",
    "result_form = pd.DataFrame(result * 100, index = cryptocoins, columns = [\"% Volatility to the Portfolio\"])\n",
    "result_form"
   ]
  },
  {
   "cell_type": "markdown",
   "metadata": {},
   "source": [
    "### Part 3"
   ]
  },
  {
   "cell_type": "code",
   "execution_count": null,
   "metadata": {},
   "outputs": [],
   "source": [
    "# Otimize weights to maximize the return/risc\n",
    "\n",
    "import time\n",
    "start = time.time()\n",
    "\n",
    "def maximize_sharpe_ratio():\n",
    "\n",
    "    # Variance\n",
    "\n",
    "    coin_weights = tf.Variable(tf.random.uniform((len(cryptocoins), 1), dtype=tf.float64))\n",
    "    weighted_std_devs = tf.multiply(coin_weights, standard_deviation)\n",
    "\n",
    "    product_1 = tf.transpose(a=weighted_std_devs)\n",
    "    product_2 = tf.matmul(product_1, matriz_cor)\n",
    "\n",
    "    portfolio_variance = tf.matmul(product_2, weighted_std_devs)\n",
    "    portfolio_volatility = tf.sqrt(tf.reduce_sum(input_tensor=portfolio_variance))\n",
    "\n",
    "\n",
    "    # Return\n",
    "\n",
    "    returns = np.full((len(cryptocoins), 1), 0.0)\n",
    "    for coin_idx in range(0, len(cryptocoins)):\n",
    "        returns[coin_idx] = return_ac[cryptocoins[coin_idx]]\n",
    "\n",
    "    portfolio_return = tf.reduce_sum(input_tensor=tf.multiply(coin_weights, returns))\n",
    "\n",
    "\n",
    "    # Return / Risc (Sharpe Ratio)\n",
    "    # https://www.investopedia.com/terms/s/sharperatio.asp\n",
    "\n",
    "    sharpe_ratio = tf.divide(portfolio_return, portfolio_volatility)\n",
    "\n",
    "\n",
    "    # Constraints\n",
    "\n",
    "    weights_sum = tf.reduce_sum(input_tensor=coin_weights)\n",
    "    constraints_op = coin_weights.assign(tf.divide(tf.abs(coin_weights), tf.abs(weights_sum) ))\n",
    "\n",
    "\n",
    "    # Hiperparametres\n",
    "    learning_rate = 0.0001\n",
    "    learning_rate = 0.0015\n",
    "    steps = 10000\n",
    "\n",
    "    # Training using Gradient Descent to minimize the variance (volatility)\n",
    "\n",
    "    optimize_op = tf.compat.v1.train.GradientDescentOptimizer(learning_rate, use_locking = True).minimize(tf.negative(sharpe_ratio))\n",
    "\n",
    "    init = tf.compat.v1.global_variables_initializer()\n",
    "\n",
    "    with tf.compat.v1.Session() as sess:\n",
    "        ratios = np.zeros(steps)\n",
    "        returns = np.zeros(steps)\n",
    "        sess.run(init)\n",
    "        for i in range(steps):\n",
    "            sess.run(optimize_op)\n",
    "            sess.run(constraints_op)\n",
    "            ratios[i] = sess.run(sharpe_ratio)\n",
    "            returns[i] = sess.run(portfolio_return) * 100\n",
    "            if i % 2000 == 0 :\n",
    "                sess.run(constraints_op)\n",
    "                print(\"[Iteration {:d}]\".format(i))\n",
    "                print(\"Volatility {:.2f} %\".format(sess.run(portfolio_volatility)))\n",
    "                print(\"Return {:.2f} %\".format(sess.run(portfolio_return)*100))\n",
    "                print(\"sharpe_ratio\", sess.run(sharpe_ratio))\n",
    "                print(\"\")\n",
    "\n",
    "        sess.run(constraints_op)\n",
    "        print(\"Volatility {:.2f} %\".format(sess.run(portfolio_volatility)))\n",
    "        print(\"Return {:.2f} %\".format(sess.run(portfolio_return)*100))\n",
    "        print(\"sharpe_ratio\", sess.run(sharpe_ratio))\n",
    "        return sess.run(coin_weights)\n",
    "\n",
    "weights = maximize_sharpe_ratio()\n",
    "\n",
    "print(\"\\n\")\n",
    "print(\"Time used {:f}s to conclude\".format(time.time() - start))\n",
    "pretty_weights = pd.DataFrame(weights * 100, index = cryptocoins, columns = [\"% of the portfolio\"])\n",
    "\n",
    "pretty_weights"
   ]
  }
 ],
 "metadata": {
  "kernelspec": {
   "display_name": "Python 3 (ipykernel)",
   "language": "python",
   "name": "python3"
  },
  "language_info": {
   "codemirror_mode": {
    "name": "ipython",
    "version": 3
   },
   "file_extension": ".py",
   "mimetype": "text/x-python",
   "name": "python",
   "nbconvert_exporter": "python",
   "pygments_lexer": "ipython3",
   "version": "3.9.7"
  }
 },
 "nbformat": 4,
 "nbformat_minor": 2
}
